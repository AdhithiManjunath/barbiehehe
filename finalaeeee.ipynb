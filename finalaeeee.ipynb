{
 "cells": [
  {
   "cell_type": "code",
   "execution_count": 7,
   "id": "881aa77b",
   "metadata": {},
   "outputs": [
    {
     "name": "stdout",
     "output_type": "stream",
     "text": [
      "[4, 1]\n",
      "21\n"
     ]
    }
   ],
   "source": [
    "#knapsack\n",
    "# .\n",
    "# Items Weight Value\n",
    "# 1 3 10\n",
    "# 2 5 4\n",
    "# 3 6 9\n",
    "# 4 2 11\n",
    "def knapsack(items,backpack_cap):\n",
    "    capacity = backpack_cap\n",
    "    n = len(items)\n",
    "    \n",
    "    dp= [[0]*(capacity+1) for _ in range(n+1)]\n",
    "    \n",
    "    items_list = []\n",
    "    for i in range(1,n+1):\n",
    "        wi = items[i-1][0]\n",
    "        vi = items[i-1][1]\n",
    "        for j in range(1,capacity+1):\n",
    "            if wi>j:\n",
    "                dp[i][j] = dp[i-1][j]\n",
    "            else:\n",
    "                dp[i][j] = max(dp[i-1][j] , vi+dp[i-1][j-wi])\n",
    "    w = capacity\n",
    "    for i in range(n,0,-1):\n",
    "        if dp[i][w]!= dp[i-1][w]:\n",
    "            items_list.append(i)\n",
    "            w-=dp[i-1][0]\n",
    "    return items_list,dp[n][w]            \n",
    "# def find_latest_nonoverlapper(items,index):\n",
    "#     for i in range(index-1,0,-1):\n",
    "#         if items[]\n",
    "items =[\n",
    "    [3,10],\n",
    "    [5,4],\n",
    "    [6,9],\n",
    "    [2,11]\n",
    "]\n",
    "backpack_cap =7\n",
    "items_list , max_value = knapsack(items, backpack_cap)\n",
    "print(items_list)\n",
    "print(max_value)"
   ]
  },
  {
   "cell_type": "code",
   "execution_count": 14,
   "id": "fc5bc452",
   "metadata": {},
   "outputs": [
    {
     "name": "stdout",
     "output_type": "stream",
     "text": [
      "enter start position1\n",
      "[1, 2, 4, 3, 6]\n",
      "11\n"
     ]
    }
   ],
   "source": [
    "#prims algorithm \n",
    "import heapq\n",
    "def prims(graph):\n",
    "    visited = []\n",
    "    start = int(input(\"enter start position\"))\n",
    "    visited.append(start)\n",
    "    min_cost =0\n",
    "    edges = [(cost,start,end) for end,cost in graph[start].items()]\n",
    "    heapq.heapify(edges) #arranges it in ascending order of cost\n",
    "\n",
    "    while edges:\n",
    "            costi,u,v = heapq.heappop(edges)\n",
    "            if v in visited:\n",
    "                      continue\n",
    "            \n",
    "            visited.append(v)\n",
    "            min_cost+=costi\n",
    "            for neighbour,cost in graph[v].items():\n",
    "                if neighbour not in visited:\n",
    "                    heapq.heappush(edges,(cost,v,neighbour))\n",
    "    \n",
    "    return visited,min_cost\n",
    "        \n",
    "graph ={\n",
    "    1:{2:4,4:8},\n",
    "    2:{1:4,4:1,3:3},\n",
    "    3:{2:3,4:7,6:8},\n",
    "    4:{1:8,2:1,3:7,6:3},\n",
    "    6:{4:3,3:8}\n",
    "}\n",
    "path , min_cost = prims(graph)\n",
    "# print(path)\n",
    "print(min_cost)"
   ]
  },
  {
   "cell_type": "code",
   "execution_count": 18,
   "id": "eede43aa",
   "metadata": {},
   "outputs": [
    {
     "name": "stdout",
     "output_type": "stream",
     "text": [
      "enter start position1\n",
      "to1: 0\n",
      "to2: 10\n",
      "to3: 60\n",
      "to4: 80\n",
      "to5: 70\n"
     ]
    }
   ],
   "source": [
    "#dijkstras algorithm\n",
    "import heapq\n",
    "def dijkstras(graph,start):\n",
    "    distances = {node:float('inf') for node in graph}\n",
    "    distances[start]= 0\n",
    "    heap =[(0,start)] # creating heap for source\n",
    "\n",
    "    while heap:\n",
    "        current_dist , current_node = heapq.heappop(heap)\n",
    "        if current_dist >distances[current_node]:\n",
    "            continue\n",
    "        for neighbour ,weight in graph[current_node].items():\n",
    "#             heapq.heappush(heap,(weight,neighbour))\n",
    "            dist = current_dist+weight\n",
    "            if distances[neighbour]>dist:\n",
    "                heapq.heappush(heap,(dist,neighbour))\n",
    "                distances[neighbour] = dist\n",
    "    return distances\n",
    "        \n",
    "graph= {\n",
    "    1:{2:10,5:100},\n",
    "    2:{1:10,3:50},\n",
    "    3:{2:50,4:20,5:10},\n",
    "    4:{5:60,3:20},\n",
    "    5:{1:100,3:10,4:60}\n",
    "}\n",
    "\n",
    "n = int(input(\"enter start position\"))\n",
    "distances = dijkstras(graph,n)\n",
    "for end,dist in distances.items():\n",
    "    print(f\"to{end}: {dist}\")\n"
   ]
  },
  {
   "cell_type": "code",
   "execution_count": 19,
   "id": "d1e3a8af",
   "metadata": {},
   "outputs": [
    {
     "name": "stdout",
     "output_type": "stream",
     "text": [
      "800\n"
     ]
    }
   ],
   "source": [
    "#weighted interval scheduling \n",
    "# Drama \n",
    "# School\n",
    "# Start\u0002time\n",
    "# Finish\u0002time\n",
    "# Value\n",
    "# 1 1 2 100\n",
    "# 2 2 5 200\n",
    "# 3 3 6 300\n",
    "# 4 4 8 400\n",
    "# 5 5 9 500\n",
    "# 6 6 10 100\n",
    "\n",
    "def weighted_interval_scheduling(requests):\n",
    "    requests.sort(key = lambda x:x[1])\n",
    "    n = len(requests)\n",
    "    dp = [0]*(n+1)\n",
    "    \n",
    "    for i in range(1,n+1):\n",
    "        current_req = requests[i-1]\n",
    "        dp[i] = max(dp[i-1], current_req[2]+dp[find_nearest_nonoverlapping(requests,i)])\n",
    "    \n",
    "    return dp[n]\n",
    "\n",
    "def find_nearest_nonoverlapping(requests,index):\n",
    "    for i in range(index-1,0,-1):\n",
    "        if requests[i-1][1]<=requests[index-1][0]:\n",
    "            return i\n",
    "    return 0\n",
    "\n",
    "requests = [\n",
    "    [1,2,100],\n",
    "    [2,5,200],\n",
    "    [3,6,300],\n",
    "    [4,8,400],\n",
    "    [5,9,500],\n",
    "    [6,10,100]\n",
    "]\n",
    "\n",
    "max_profit = weighted_interval_scheduling(requests)\n",
    "print(max_profit)"
   ]
  },
  {
   "cell_type": "code",
   "execution_count": 3,
   "id": "7532f5d5",
   "metadata": {},
   "outputs": [
    {
     "name": "stdout",
     "output_type": "stream",
     "text": [
      "[1, 2, 7, 9, 10]\n"
     ]
    }
   ],
   "source": [
    "#quicksort \n",
    "# def partition(arr,low,high):\n",
    "#     pivot = arr[high]\n",
    "#     i = low-1\n",
    "#     for j in range(low,high):\n",
    "#         if arr[j]<pivot:\n",
    "#             i = i+1\n",
    "#             arr[i],arr[j] = arr[j],arr[i]\n",
    "#     arr[i+1],arr[high] = arr[high],arr[i+1]\n",
    "#     return i+1\n",
    "def quicksort(arr,low,high):\n",
    "    if low<high:\n",
    "        pi = partition(arr,low,high)\n",
    "        quicksort(arr,low,pi-1)\n",
    "        quicksort(arr,pi+1,high)\n",
    "\n",
    "def partition(arr,low,high):\n",
    "    pivot = arr[high]\n",
    "    i = low-1\n",
    "    for j in range(low,high):\n",
    "        if arr[j]<pivot:\n",
    "            i = i+1\n",
    "            arr[i],arr[j] = arr[j],arr[i]\n",
    "    arr[i+1],arr[high] = arr[high],arr[i+1]\n",
    "    return i+1\n",
    "    \n",
    "arr = [1,7,9,10,2]\n",
    "quicksort(arr,0,len(arr)-1)\n",
    "print(arr)"
   ]
  },
  {
   "cell_type": "code",
   "execution_count": 6,
   "id": "81387504",
   "metadata": {},
   "outputs": [
    {
     "name": "stdout",
     "output_type": "stream",
     "text": [
      "A matched to V\n",
      "B matched to W\n",
      "C matched to X\n"
     ]
    }
   ],
   "source": [
    "#gale shapeley\n",
    "def stable_matching(men_pref,women_pref):\n",
    "    free_men = list(men_pref.keys())\n",
    "    engaged = {}\n",
    "    while free_men:\n",
    "            m = free_men.pop(0)\n",
    "            preference = men_pref[m]\n",
    "            for w in preference:\n",
    "                current_partner = engaged.get(w)\n",
    "                if not  current_partner:\n",
    "                    engaged[w] = m\n",
    "                    break\n",
    "                else:\n",
    "                    pref_women = women_pref[w]\n",
    "                    if pref_women.index(current_partner)>pref_women.index(m):\n",
    "                        engaged[w] = m\n",
    "                        free_men.append(current_partner)\n",
    "    return engaged\n",
    "    \n",
    "men_pref = {\n",
    "    'A': ['V', 'W', 'X'],\n",
    "    'B': ['W', 'V', 'X'],\n",
    "    'C': ['V', 'W', 'X']\n",
    "}\n",
    "\n",
    "# Women's preference list\n",
    "women_pref = {\n",
    "    'V': ['A', 'B', 'C'],\n",
    "    'W': ['B', 'C', 'A'],\n",
    "    'X': ['C', 'A', 'B']\n",
    "}\n",
    "\n",
    "result = stable_matching(men_pref, women_pref)\n",
    "for woman,man in result.items():\n",
    "    print(f\"{man} matched to {woman}\")\n",
    "    \n"
   ]
  },
  {
   "cell_type": "code",
   "execution_count": 9,
   "id": "2a5ec374",
   "metadata": {},
   "outputs": [
    {
     "name": "stdout",
     "output_type": "stream",
     "text": [
      "enter starting index1\n",
      "1\n",
      "0\n",
      "2\n",
      "4\n",
      "3\n"
     ]
    }
   ],
   "source": [
    "#dfs algorithm\n",
    "def dfs (graph,visited,node):\n",
    "    n = len(graph)\n",
    "    while len(visited) <n:\n",
    "            if node not in visited:\n",
    "                print(node)\n",
    "                visited.add(node)\n",
    "                for neighbour in graph[node]:\n",
    "                    if neighbour not in visited:\n",
    "                        dfs(graph,visited,neighbour)\n",
    "graph = {\n",
    "    1 : [0,2,4],\n",
    "    0 : [1,2,3],\n",
    "    2: [0,1,4],\n",
    "    3:[0,4],\n",
    "    4:[1,2,3]\n",
    "}\n",
    "start = int(input(\"enter starting index\"))\n",
    "visited = set()\n",
    "dfs(graph,visited,start)"
   ]
  },
  {
   "cell_type": "code",
   "execution_count": 3,
   "id": "bc0a1a81",
   "metadata": {},
   "outputs": [
    {
     "name": "stdout",
     "output_type": "stream",
     "text": [
      "[1, 2, 3, 4, 5, 6, 7, 8]\n",
      "3\n"
     ]
    }
   ],
   "source": [
    "#counting inversions problem \n",
    "def merge(arr):\n",
    "    if len(arr)<=1:\n",
    "        return arr, 0\n",
    "    mid = len(arr)//2\n",
    "    left,inversions_left = merge(arr[:mid])\n",
    "    right,inversions_right = merge(arr[mid:])\n",
    "    merged ,inversions_merged = mergesort(left,right)\n",
    "    \n",
    "    return merged , inversions_left+inversions_right+inversions_merged\n",
    "\n",
    "def mergesort(left,right):\n",
    "    i=j=0\n",
    "    llen = len(left)\n",
    "    rlen = len(right)\n",
    "    merged =[]\n",
    "    inversions =0\n",
    "    while i<llen and j<rlen:\n",
    "        if left[i]>right[j]:\n",
    "            merged.append(right[j])\n",
    "            inversions = llen -i\n",
    "#             i+=1\n",
    "            j+=1\n",
    "        else:\n",
    "            merged.append(left[i])\n",
    "            i+=1\n",
    "    while i<llen:\n",
    "        merged.append(left[i])\n",
    "        i+=1\n",
    "    while j<rlen:\n",
    "        merged.append(right[j])\n",
    "        j+=1\n",
    "    return merged, inversions\n",
    "\n",
    "arr = [1,3,2,6,4,7,5,8]\n",
    "sorted_arr, inversions = merge(arr)\n",
    "print(sorted_arr)\n",
    "print(inversions)"
   ]
  },
  {
   "cell_type": "code",
   "execution_count": 5,
   "id": "7b067e96",
   "metadata": {},
   "outputs": [
    {
     "name": "stdout",
     "output_type": "stream",
     "text": [
      "not unique\n"
     ]
    }
   ],
   "source": [
    "#element uniqueness problem\n",
    "def unique(arr):\n",
    "    uniqueset = set()\n",
    "    for elem in arr:\n",
    "        if elem not in uniqueset:\n",
    "            uniqueset.add(elem)\n",
    "        else:\n",
    "            return False\n",
    "    return True\n",
    "\n",
    "arr = [1,2,3,3]\n",
    "if unique(arr):\n",
    "    print(\"unique\")\n",
    "else:\n",
    "    print(\"not unique\")\n",
    "    "
   ]
  },
  {
   "cell_type": "code",
   "execution_count": 7,
   "id": "132703b9",
   "metadata": {},
   "outputs": [
    {
     "name": "stdout",
     "output_type": "stream",
     "text": [
      "[1, 2, 3, 4, 5]\n"
     ]
    }
   ],
   "source": [
    "#insertion sort algorithm \n",
    "def insertion_sort(arr):\n",
    "     for i in range(1,len(arr)):\n",
    "            key = arr[i] \n",
    "            j =i-1\n",
    "            while j>=0 and arr[j]>key:\n",
    "                arr[j+1] = arr[j]\n",
    "                j = j-1\n",
    "            arr[j+1] = key\n",
    "\n",
    "arr = [1,5,4,3,2]\n",
    "insertion_sort(arr)\n",
    "print(arr)"
   ]
  },
  {
   "cell_type": "code",
   "execution_count": null,
   "id": "de1d119b",
   "metadata": {},
   "outputs": [],
   "source": []
  }
 ],
 "metadata": {
  "kernelspec": {
   "display_name": "Python 3 (ipykernel)",
   "language": "python",
   "name": "python3"
  },
  "language_info": {
   "codemirror_mode": {
    "name": "ipython",
    "version": 3
   },
   "file_extension": ".py",
   "mimetype": "text/x-python",
   "name": "python",
   "nbconvert_exporter": "python",
   "pygments_lexer": "ipython3",
   "version": "3.11.4"
  }
 },
 "nbformat": 4,
 "nbformat_minor": 5
}
