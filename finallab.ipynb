{
 "cells": [
  {
   "cell_type": "code",
   "execution_count": 13,
   "id": "b939f0d2",
   "metadata": {},
   "outputs": [
    {
     "name": "stdout",
     "output_type": "stream",
     "text": [
      "5\n",
      "[883, 723, 740, 856, 406]\n",
      "[406, 723, 740, 856, 883]\n",
      "700\n",
      "1689595400.3877087\n",
      "1689595400.3877087\n",
      "0.0\n",
      "0.0\n"
     ]
    }
   ],
   "source": [
    "import random\n",
    "import time\n",
    "\n",
    "def linear_search(arr,key):\n",
    "    for i in range(len(arr)):\n",
    "        if arr[i]== key:\n",
    "            return i\n",
    "    return -1\n",
    "\n",
    "def binary_search(arr,key,low,high):\n",
    "    while low<=high:\n",
    "        mid = (low+high)//2\n",
    "    \n",
    "        if arr[mid] ==key:\n",
    "            return mid\n",
    "        elif arr[mid]>key:\n",
    "            return binary_search(arr,key,low,mid-1)\n",
    "        else:\n",
    "            return binary_search(arr,key,mid+1,high)\n",
    "    return -1\n",
    "    \n",
    "    \n",
    "n = int(input())\n",
    "arr = [random.randint(0,1000) for _ in range(n)]\n",
    "print(arr)\n",
    "sorted_arr = sorted(arr)\n",
    "print(sorted_arr)\n",
    "key = int(input())\n",
    "# s1 = time.time()\n",
    "print(s1)\n",
    "a1 =linear_search(sorted_arr, key)\n",
    "# s2 = time.time()\n",
    "print(s2)\n",
    "gap1 = (s2-s1)*1000\n",
    "\n",
    "s3 = time.time()\n",
    "a2 =binary_search(sorted_arr, key,0,len(arr)-1)\n",
    "s4 = time.time()\n",
    "gap2 = (s4-s3)*10000\n",
    "\n",
    "print(gap1)\n",
    "print(gap2)\n"
   ]
  },
  {
   "cell_type": "code",
   "execution_count": 21,
   "id": "d5f0a9f8",
   "metadata": {},
   "outputs": [
    {
     "name": "stdout",
     "output_type": "stream",
     "text": [
      "[9, 1, 2, 8, 8, 0, 10, 5, 8, 3, 10, 1, 9, 2, 7, 9, 9, 5, 6, 5, 4, 3, 10, 4, 1, 8, 3, 6, 2, 10, 8, 3, 2, 9, 2, 3, 8, 9, 3, 9, 5, 6, 0, 5, 3, 5, 3, 1, 3, 10, 2, 4, 9, 5, 8, 6, 4, 8, 0, 1, 5, 9, 5, 2, 9, 7, 2, 1, 0, 3, 9, 9, 6, 2, 10, 0, 4, 2, 0, 0, 7, 10, 1, 2, 2, 2, 8, 4, 7, 2, 7, 10, 5, 7, 9, 5, 2, 8, 0, 2, 9, 2, 1, 4, 2, 7, 2, 4, 5, 9, 0, 4, 8, 9, 4, 5, 8, 10, 4, 5, 7, 1, 4, 6, 4, 6, 7, 3, 2, 9, 0, 10, 0, 4, 3, 7, 3, 6, 10, 6, 9, 10, 4, 4, 6, 8, 9, 10, 5, 4, 6, 2, 0, 6, 0, 1, 5, 7, 10, 2, 1, 4, 1, 2, 5, 0, 9, 4, 1, 2, 6, 10, 9, 8, 6, 7, 8, 8, 5, 9, 5, 9, 2, 4, 4, 5, 10, 8, 4, 8, 0, 4, 7, 6, 3, 2, 5, 0, 8, 4, 3, 1, 2, 5, 6, 0, 1, 8, 9, 10, 10, 6, 0, 6, 5, 9, 7, 0, 7, 0, 0, 2, 2, 0, 5, 9, 7, 5, 3, 2, 5, 9, 4, 4, 10, 0, 7, 0, 0, 9, 3, 9, 1, 2, 0, 4, 4, 4, 8, 2, 9, 10, 0, 4, 7, 10, 5, 3, 0, 5, 3, 5, 2, 9, 6, 6, 3, 3, 4, 4, 0, 8, 0, 3, 1, 9, 10, 7, 9, 5, 1, 2, 1, 10, 6, 0, 5, 10, 5, 8, 5, 0, 0, 8, 5, 1, 6, 9, 6, 9, 4, 1, 4, 3, 2, 2, 1, 8, 7, 3, 8, 7, 3, 3, 10, 8, 1, 0, 9, 0, 6, 0, 4, 3, 0, 10, 10, 10, 10, 7, 3, 10, 7, 8, 1, 2, 0, 0, 0, 10, 3, 5, 2, 4, 6, 1, 7, 4, 6, 6, 2, 10, 9, 2, 7, 8, 9, 4, 4, 4, 6, 10, 0, 6, 10, 3, 7, 8, 2, 1, 7, 0, 8, 0, 2, 7, 5, 7, 6, 6, 8, 3, 7, 0, 6, 10, 0, 10, 1, 3, 1, 1, 3, 4, 6, 9, 2, 10, 4, 3, 6, 6, 1, 8, 4, 4, 3, 4, 6, 6, 1, 3, 8, 9, 1, 2, 7, 7, 9, 7, 4, 8, 0, 2, 3, 1, 9, 3, 6, 9, 8, 6, 1, 4, 5, 9, 6, 8, 2, 10, 0, 7, 0, 6, 7, 8, 0, 5, 7, 6, 6, 0, 6, 0, 5, 7, 9, 6, 6, 2, 10, 5, 2, 9, 3, 4, 10, 2, 6, 4, 2, 7, 6, 5, 0, 6, 0, 5, 4, 8, 7, 9, 5, 7, 2, 0, 1, 1, 6, 4, 4, 2, 2, 3, 2, 3, 3, 8, 8, 6]\n",
      "1689595908.8018816\n",
      "1689595908.805345\n",
      "3.4635066986083984\n",
      "[0, 0, 0, 0, 0, 0, 0, 0, 0, 0, 0, 0, 0, 0, 0, 0, 0, 0, 0, 0, 0, 0, 0, 0, 0, 0, 0, 0, 0, 0, 0, 0, 0, 0, 0, 0, 0, 0, 0, 0, 0, 0, 0, 0, 0, 0, 0, 0, 0, 0, 0, 0, 0, 0, 1, 1, 1, 1, 1, 1, 1, 1, 1, 1, 1, 1, 1, 1, 1, 1, 1, 1, 1, 1, 1, 1, 1, 1, 1, 1, 1, 1, 1, 1, 1, 1, 1, 1, 1, 1, 2, 2, 2, 2, 2, 2, 2, 2, 2, 2, 2, 2, 2, 2, 2, 2, 2, 2, 2, 2, 2, 2, 2, 2, 2, 2, 2, 2, 2, 2, 2, 2, 2, 2, 2, 2, 2, 2, 2, 2, 2, 2, 2, 2, 2, 2, 2, 2, 2, 2, 2, 2, 2, 2, 3, 3, 3, 3, 3, 3, 3, 3, 3, 3, 3, 3, 3, 3, 3, 3, 3, 3, 3, 3, 3, 3, 3, 3, 3, 3, 3, 3, 3, 3, 3, 3, 3, 3, 3, 3, 3, 3, 3, 3, 3, 3, 4, 4, 4, 4, 4, 4, 4, 4, 4, 4, 4, 4, 4, 4, 4, 4, 4, 4, 4, 4, 4, 4, 4, 4, 4, 4, 4, 4, 4, 4, 4, 4, 4, 4, 4, 4, 4, 4, 4, 4, 4, 4, 4, 4, 4, 4, 4, 4, 4, 4, 4, 4, 5, 5, 5, 5, 5, 5, 5, 5, 5, 5, 5, 5, 5, 5, 5, 5, 5, 5, 5, 5, 5, 5, 5, 5, 5, 5, 5, 5, 5, 5, 5, 5, 5, 5, 5, 5, 5, 5, 5, 5, 5, 5, 5, 6, 6, 6, 6, 6, 6, 6, 6, 6, 6, 6, 6, 6, 6, 6, 6, 6, 6, 6, 6, 6, 6, 6, 6, 6, 6, 6, 6, 6, 6, 6, 6, 6, 6, 6, 6, 6, 6, 6, 6, 6, 6, 6, 6, 6, 6, 6, 6, 6, 6, 6, 7, 7, 7, 7, 7, 7, 7, 7, 7, 7, 7, 7, 7, 7, 7, 7, 7, 7, 7, 7, 7, 7, 7, 7, 7, 7, 7, 7, 7, 7, 7, 7, 7, 7, 7, 7, 7, 7, 7, 7, 8, 8, 8, 8, 8, 8, 8, 8, 8, 8, 8, 8, 8, 8, 8, 8, 8, 8, 8, 8, 8, 8, 8, 8, 8, 8, 8, 8, 8, 8, 8, 8, 8, 8, 8, 8, 8, 8, 8, 8, 8, 9, 9, 9, 9, 9, 9, 9, 9, 9, 9, 9, 9, 9, 9, 9, 9, 9, 9, 9, 9, 9, 9, 9, 9, 9, 9, 9, 9, 9, 9, 9, 9, 9, 9, 9, 9, 9, 9, 9, 9, 9, 9, 9, 9, 9, 9, 9, 10, 10, 10, 10, 10, 10, 10, 10, 10, 10, 10, 10, 10, 10, 10, 10, 10, 10, 10, 10, 10, 10, 10, 10, 10, 10, 10, 10, 10, 10, 10, 10, 10, 10, 10, 10, 10, 10, 10, 10]\n"
     ]
    }
   ],
   "source": [
    "# insertion sort\n",
    "import random \n",
    "import time\n",
    "\n",
    "def insertion_sort(arr):\n",
    "    for i in range(1,len(arr)):\n",
    "        key = arr[i]\n",
    "        j = i-1\n",
    "        while j>=0 and arr[j]>key:\n",
    "            arr[j+1] = arr[j]\n",
    "            j = j-1\n",
    "        arr[j+1] = key\n",
    "        \n",
    "\n",
    "arr = [random.randint(0,10) for _ in range(500)]\n",
    "print(arr)\n",
    "s1 = time.time()\n",
    "insertion_sort(arr)\n",
    "s2 = time.time()\n",
    "print(s1)\n",
    "print(s2)\n",
    "gap = (s2-s1)*1000\n",
    "print(gap)\n",
    "\n",
    "print(arr)"
   ]
  },
  {
   "cell_type": "code",
   "execution_count": 13,
   "id": "6ad4c431",
   "metadata": {},
   "outputs": [
    {
     "name": "stdout",
     "output_type": "stream",
     "text": [
      "[5, 10, 1, 10, 6]\n",
      "not unique\n"
     ]
    }
   ],
   "source": [
    "#element uniqueness problem \n",
    "import random\n",
    "import time\n",
    "def element_unique(arr):\n",
    "        sorted_arr = sorted(arr)\n",
    "#         print(sorted_arr)\n",
    "        unique = set()\n",
    "        for ele in sorted_arr:\n",
    "            if ele in unique:\n",
    "                return False\n",
    "            else:\n",
    "                unique.add(ele)\n",
    "        return True\n",
    "        \n",
    "\n",
    "arr = [random.randint(0,10) for _ in range(5)]\n",
    "print(arr)\n",
    "# element_unique(arr)\n",
    "# if element_unique(arr):\n",
    "#     print(\"unique\")\n",
    "# else:\n",
    "#     print(\"not unique\")\n",
    "\n",
    "if element_unique(arr):\n",
    "    print(\"unique\")\n",
    "else:\n",
    "    print(\"not unique\")"
   ]
  },
  {
   "cell_type": "code",
   "execution_count": null,
   "id": "04295ff6",
   "metadata": {},
   "outputs": [],
   "source": [
    "#minimum inversions"
   ]
  },
  {
   "cell_type": "code",
   "execution_count": 3,
   "id": "152f3f4c",
   "metadata": {},
   "outputs": [
    {
     "name": "stdout",
     "output_type": "stream",
     "text": [
      "enter the start node1\n",
      "1\n",
      "0\n",
      "2\n",
      "4\n",
      "3\n",
      "{0, 1, 2, 3, 4}\n"
     ]
    }
   ],
   "source": [
    "def dfs(graph,visited,node):\n",
    "#     list = []\n",
    "    if node not in visited:\n",
    "#         list.append(nod\n",
    "        print(node)\n",
    "        visited.add(node)\n",
    "#           visited.append(node)\n",
    "        for neighbour in graph[node]:\n",
    "            if neighbour not in visited:\n",
    "                dfs(graph,visited,neighbour)\n",
    "#     return list\n",
    "\n",
    "# graph = {}\n",
    "# n = int(input(\"enter no of vertices\"))\n",
    "# for _ in range(n):\n",
    "#     node = input(\"enter node\")\n",
    "#     neighbour = input(\"enter its neighbours\")\n",
    "#     nei = neighbour.split()\n",
    "#     graph[node] = nei\n",
    "\n",
    "\n",
    "# print(graph)\n",
    "\n",
    "graph = {\n",
    "    1 : [0,2,4],\n",
    "    0 : [1,2,3],\n",
    "    2: [0,1,4],\n",
    "    3:[0,4],\n",
    "    4:[1,2,3]\n",
    "}\n",
    "\n",
    "node = int(input(\"enter the start node\"))\n",
    "visited = set()\n",
    "# visited =[]\n",
    "dfs(graph,visited,node)\n",
    "# print(list)\n",
    "print(visited)\n",
    "\n"
   ]
  },
  {
   "cell_type": "code",
   "execution_count": 12,
   "id": "cd6ef7f7",
   "metadata": {},
   "outputs": [
    {
     "name": "stdout",
     "output_type": "stream",
     "text": [
      "Stable Marriages:\n",
      "A engaged to V\n",
      "B engaged to W\n",
      "C engaged to X\n"
     ]
    }
   ],
   "source": [
    "def stable_marriage(men_pref, women_pref):\n",
    "    n = len(men_pref)  # Number of men or women\n",
    "\n",
    "    # Initialize the engagements and proposals\n",
    "    engagements = {}\n",
    "    free_men = list(men_pref.keys())\n",
    "\n",
    "    while free_men:\n",
    "        free_man = free_men.pop(0)\n",
    "        preferences = men_pref[free_man]\n",
    "\n",
    "        for woman in preferences:\n",
    "            current_partner = engagements.get(woman)\n",
    "\n",
    "            # If the woman is free, engage her with the current man\n",
    "            if not current_partner:\n",
    "                engagements[woman] = free_man\n",
    "                break\n",
    "\n",
    "            # Check if the woman prefers the current partner or the new proposer\n",
    "            woman_preferences = women_pref[woman]\n",
    "            if woman_preferences.index(free_man) < woman_preferences.index(current_partner):\n",
    "                engagements[woman] = free_man\n",
    "                free_men.append(current_partner)\n",
    "                break\n",
    "\n",
    "    return engagements\n",
    "\n",
    "\n",
    "# Men's preference list\n",
    "men_pref = {\n",
    "    'A': ['V', 'W', 'X'],\n",
    "    'B': ['W', 'V', 'X'],\n",
    "    'C': ['V', 'W', 'X']\n",
    "}\n",
    "\n",
    "# Women's preference list\n",
    "women_pref = {\n",
    "    'V': ['A', 'B', 'C'],\n",
    "    'W': ['B', 'C', 'A'],\n",
    "    'X': ['C', 'A', 'B']\n",
    "}\n",
    "\n",
    "result = stable_marriage(men_pref, women_pref)\n",
    "print(\"Stable Marriages:\")\n",
    "for woman, man in result.items():\n",
    "    print(f\"{man} engaged to {woman}\")\n"
   ]
  },
  {
   "cell_type": "code",
   "execution_count": 18,
   "id": "7f21b9e7",
   "metadata": {},
   "outputs": [
    {
     "name": "stdout",
     "output_type": "stream",
     "text": [
      "V to A\n",
      "W to B\n",
      "X to C\n"
     ]
    }
   ],
   "source": [
    "def stable_matching(men_pref, women_pref):\n",
    "    engaged = {}\n",
    "    free_men = list(men_pref.keys())\n",
    "    \n",
    "    while free_men:\n",
    "            free_man = free_men.pop(0)\n",
    "            preference = men_pref[free_man]\n",
    "            \n",
    "            for woman in preference:\n",
    "                current_partner = engaged.get(woman)\n",
    "                \n",
    "                if not current_partner:\n",
    "                    engaged[woman] = free_man\n",
    "                    break\n",
    "                else:\n",
    "                    if women_pref[woman].index(current_partner)>women_pref[woman].index(free_man):\n",
    "                        engaged[woman] = free_man\n",
    "                        free_men.append(current_partner)\n",
    "    return engaged\n",
    "                \n",
    "# Men's preference list\n",
    "men_pref = {\n",
    "    'A': ['V', 'W', 'X'],\n",
    "    'B': ['W', 'V', 'X'],\n",
    "    'C': ['V', 'W', 'X']\n",
    "}\n",
    "\n",
    "# Women's preference list\n",
    "women_pref = {\n",
    "    'V': ['A', 'B', 'C'],\n",
    "    'W': ['B', 'C', 'A'],\n",
    "    'X': ['C', 'A', 'B']\n",
    "}\n",
    "result = stable_matching(men_pref, women_pref)\n",
    "# print(result)\n",
    "for women,men in result.items():\n",
    "    print(f\"{women} to {men}\")"
   ]
  },
  {
   "cell_type": "code",
   "execution_count": 2,
   "id": "94190a23",
   "metadata": {},
   "outputs": [
    {
     "name": "stdout",
     "output_type": "stream",
     "text": [
      "[1, 1, 2, 4, 7, 9, 10]\n"
     ]
    }
   ],
   "source": [
    "def partition(arr, low, high):\n",
    "    pivot = arr[high]\n",
    "    i = low -1\n",
    "        \n",
    "    for j in range(low, high):\n",
    "        if arr[j]<=pivot:\n",
    "            i = i+1\n",
    "            (arr[i], arr[j]) = (arr[j],arr[i])\n",
    "    (arr[i+1],arr[high]) = (arr[high], arr[i+1])\n",
    "    \n",
    "    return i+1\n",
    "\n",
    "\n",
    "\n",
    "def quicksort(arr,low, high):\n",
    "    if low<high:\n",
    "        p1 = partition(arr,low,high)\n",
    "        quicksort(arr,low,p1-1)\n",
    "        quicksort(arr, p1+1, high)\n",
    "        \n",
    "\n",
    "\n",
    "arr = [1,7,4,1,10,9,2]\n",
    "quicksort(arr,0,len(arr)-1)\n",
    "print(arr)"
   ]
  },
  {
   "cell_type": "code",
   "execution_count": 5,
   "id": "276cee2f",
   "metadata": {},
   "outputs": [
    {
     "name": "stdout",
     "output_type": "stream",
     "text": [
      "800\n"
     ]
    }
   ],
   "source": [
    "#dramavenue for max profit\n",
    "def create_max_profit(requests):\n",
    "    n = len(requests)\n",
    "    req = sorted(requests, key = lambda x:x[1])\n",
    "    dp =[0]*(n+1)\n",
    "    for i in range(1,n+1):\n",
    "        current_req = req[i-1]\n",
    "        dp[i] = max(dp[i-1], current_req[2]+ dp[find_latest_non_overlapping_request(req,i)])\n",
    "    \n",
    "    return dp[n]\n",
    "    \n",
    "def find_latest_non_overlapping_request(req,index):\n",
    "    for i in range(index-1,0,-1):\n",
    "        if req[i-1][1]<=req[index-1][0]:\n",
    "            return i\n",
    "        \n",
    "    return 0\n",
    "\n",
    "requests = [\n",
    "    [1, 2, 100],\n",
    "    [2, 5, 200],\n",
    "    [3, 6, 300],\n",
    "    [4, 8, 400],\n",
    "    [6, 10, 100],\n",
    "    [5, 9, 500]\n",
    "    \n",
    "]\n",
    "\n",
    "result = create_max_profit(requests)\n",
    "print(result)"
   ]
  },
  {
   "cell_type": "code",
   "execution_count": 1,
   "id": "86007b49",
   "metadata": {},
   "outputs": [
    {
     "name": "stdout",
     "output_type": "stream",
     "text": [
      "tell me the position from where you wanna start1\n",
      "to 1 : 0\n",
      "to 2 : 10\n",
      "to 3 : 60\n",
      "to 4 : 80\n",
      "to 5 : 70\n"
     ]
    }
   ],
   "source": [
    "import heapq\n",
    "\n",
    "def dijkstra(graph,start):\n",
    "    distance = {node : float('inf') for node in graph}\n",
    "    distance[start] =0\n",
    "    heap=[(0,start)]\n",
    "    \n",
    "    while heap:\n",
    "        current_dist, current_node = heapq.heappop(heap)\n",
    "        \n",
    "       \n",
    "        if current_dist>distance[current_node]:\n",
    "            continue\n",
    "        \n",
    "        for neighbour,weight in graph[current_node].items():\n",
    "            dist = weight + current_dist\n",
    "            if dist<distance[neighbour]:\n",
    "                distance[neighbour] = dist\n",
    "                heapq.heappush(heap,(dist,neighbour))\n",
    "    return distance\n",
    "    \n",
    "graph ={\n",
    "    1:{2:10, 5:100},\n",
    "    2:{1:10,3:50},\n",
    "    3:{2:50,5:10,4:20},\n",
    "    4:{3:20,5:60},\n",
    "    5:{1:100,4:60}\n",
    "}\n",
    "\n",
    "start = int(input(\"tell me the position from where you wanna start\"))\n",
    "distance =dijkstra(graph,start)\n",
    "for node,dist in distance.items():\n",
    "    print(f\"to {node} : {dist}\")\n"
   ]
  },
  {
   "cell_type": "code",
   "execution_count": 7,
   "id": "4c2f2844",
   "metadata": {},
   "outputs": [
    {
     "name": "stdout",
     "output_type": "stream",
     "text": [
      "enter start position of ur choice3\n",
      "11\n"
     ]
    }
   ],
   "source": [
    "import heapq\n",
    "def prims(graph,start):\n",
    "    min_cost =0\n",
    "    visited = set([start])\n",
    "    edges = [(cost,start,end) for end,cost in graph[start].items()]\n",
    "    heapq.heapify(edges)\n",
    "    \n",
    "    while edges:\n",
    "            cost,u,v = heapq.heappop(edges)\n",
    "            if v not in visited:\n",
    "                min_cost+=cost\n",
    "                visited.add(v)\n",
    "                for neighbour,ncost in graph[v].items():\n",
    "                    if neighbour not in visited:\n",
    "                        heapq.heappush(edges,(ncost,v,neighbour))\n",
    "                \n",
    "    return min_cost\n",
    "\n",
    "\n",
    "graph={\n",
    "    1:{2:4,4:8},\n",
    "    2:{3:3,4:1,1:4},\n",
    "    3:{2:3,4:7,6:8},\n",
    "    4:{2:1,3:7,6:3},\n",
    "    6:{4:3,3:8}\n",
    "}\n",
    "\n",
    "start = int(input(\"enter start position of ur choice\"))\n",
    "result = prims(graph,start)\n",
    "print(result)"
   ]
  },
  {
   "cell_type": "code",
   "execution_count": null,
   "id": "4447c5c1",
   "metadata": {},
   "outputs": [],
   "source": [
    "def knapsack(items,backpackc):\n",
    "    \n",
    "\n",
    "\n",
    "\n",
    "items = [\n",
    "    [3, 10],  # Item 1: weight = 3, value = 10\n",
    "    [5, 4],   # Item 2: weight = 5, value = 4\n",
    "    [6, 9],   # Item 3: weight = 6, value = 9\n",
    "    [2, 11]   # Item 4: weight = 2, value = 11\n",
    "]\n",
    "backpack_capacity = 7\n",
    "items_selected, total_value = knapsack(items,backpack_capacity)"
   ]
  },
  {
   "cell_type": "code",
   "execution_count": 8,
   "id": "9f7c62aa",
   "metadata": {},
   "outputs": [
    {
     "name": "stdout",
     "output_type": "stream",
     "text": [
      "sorted playlist  [1, 2, 3, 4, 5, 6, 7, 8]\n",
      "inversions  7\n"
     ]
    }
   ],
   "source": [
    "def merge(arr):\n",
    "    if len(arr)<=1:\n",
    "        return arr, 0\n",
    "\n",
    "    mid = len(arr)//2\n",
    "    left, inversions_left = merge(arr[:mid])\n",
    "    right, inversions_right = merge(arr[mid:])\n",
    "    merged, inversions_merge = mergeSort(left, right)\n",
    "\n",
    "    return merged, inversions_left + inversions_right + inversions_merge\n",
    "\n",
    "\n",
    "def mergeSort(left,right):\n",
    "    inversions = 0\n",
    "    i,j = 0,0\n",
    "    merged=[]\n",
    "    \n",
    "    while i<len(left) and j<len(right):\n",
    "        if left[i]>right[j]:\n",
    "            inversions += len(left) - i\n",
    "            merged.append(right[j])\n",
    "            j+=1\n",
    "        else:\n",
    "            merged.append(left[i])\n",
    "            i+=1\n",
    "\n",
    "    while i<len(left):\n",
    "        merged.append(left[i])\n",
    "        i+=1\n",
    "\n",
    "    while j<len(right):\n",
    "        merged.append(right[j])\n",
    "        j+=1\n",
    "\n",
    "    return merged, inversions\n",
    "\n",
    "playlist_num = [2,3,1,5,8,4,7,6]\n",
    "inversions = 0\n",
    "\n",
    "playlist_num, inversions = merge(playlist_num)\n",
    "\n",
    "print(\"sorted playlist \", playlist_num)\n",
    "print(\"inversions \", inversions)"
   ]
  },
  {
   "cell_type": "code",
   "execution_count": 10,
   "id": "05feef2b",
   "metadata": {},
   "outputs": [
    {
     "name": "stdout",
     "output_type": "stream",
     "text": [
      "[1, 2, 3, 4, 5, 6, 7, 8]\n",
      "7\n"
     ]
    }
   ],
   "source": [
    "def merge(arr):\n",
    "    if len(arr)<=1:\n",
    "        return arr, 0\n",
    "    mid = len(arr)//2\n",
    "    left, inversion_left = merge(arr[:mid])\n",
    "    right, inversion_right = merge(arr[mid:])\n",
    "    merged , inversion_merge = mergeSort(left, right)\n",
    "    return merged , inversion_left+inversion_right+inversion_merge\n",
    "\n",
    "def mergesort(left, right):\n",
    "    lleft = len(left)\n",
    "    lright = len(right)\n",
    "    i=j=0\n",
    "    merged =[]\n",
    "    inversions =0\n",
    "    while i<llen and j <lright:\n",
    "        if left[i]>=right[j]:\n",
    "            merged.append(right[j])\n",
    "            i+=1\n",
    "            j+=1\n",
    "            inversions += lleft-i\n",
    "    while i<lleft:\n",
    "        merged.append(left[i])\n",
    "        i+=1\n",
    "    while j<lright:\n",
    "        merged.append(right[j])\n",
    "        j+=1\n",
    "        \n",
    "    return merged, inversions\n",
    "            \n",
    "playlist_num = [2,3,1,5,8,4,7,6]\n",
    "inversions = 0\n",
    "\n",
    "playlist_num , inversions =merge(playlist_num)\n",
    "print(playlist_num)\n",
    "print(inversions)"
   ]
  },
  {
   "cell_type": "code",
   "execution_count": null,
   "id": "975eaddb",
   "metadata": {},
   "outputs": [],
   "source": []
  }
 ],
 "metadata": {
  "kernelspec": {
   "display_name": "Python 3 (ipykernel)",
   "language": "python",
   "name": "python3"
  },
  "language_info": {
   "codemirror_mode": {
    "name": "ipython",
    "version": 3
   },
   "file_extension": ".py",
   "mimetype": "text/x-python",
   "name": "python",
   "nbconvert_exporter": "python",
   "pygments_lexer": "ipython3",
   "version": "3.11.4"
  }
 },
 "nbformat": 4,
 "nbformat_minor": 5
}
